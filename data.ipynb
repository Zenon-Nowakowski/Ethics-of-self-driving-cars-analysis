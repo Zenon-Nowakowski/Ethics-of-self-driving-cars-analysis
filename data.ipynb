{
 "cells": [
  {
   "cell_type": "code",
   "execution_count": 9,
   "metadata": {},
   "outputs": [],
   "source": [
    "import pandas as pd\n",
    "import datetime"
   ]
  },
  {
   "cell_type": "code",
   "execution_count": 10,
   "metadata": {},
   "outputs": [],
   "source": [
    "df = pd.read_csv(\"data.csv\", parse_dates=[\"Timestamp\"])"
   ]
  },
  {
   "cell_type": "code",
   "execution_count": 11,
   "metadata": {},
   "outputs": [
    {
     "data": {
      "text/html": [
       "<div>\n",
       "<style scoped>\n",
       "    .dataframe tbody tr th:only-of-type {\n",
       "        vertical-align: middle;\n",
       "    }\n",
       "\n",
       "    .dataframe tbody tr th {\n",
       "        vertical-align: top;\n",
       "    }\n",
       "\n",
       "    .dataframe thead th {\n",
       "        text-align: right;\n",
       "    }\n",
       "</style>\n",
       "<table border=\"1\" class=\"dataframe\">\n",
       "  <thead>\n",
       "    <tr style=\"text-align: right;\">\n",
       "      <th></th>\n",
       "      <th>Timestamp</th>\n",
       "      <th>Self-driving cars will be beneficial for society.</th>\n",
       "      <th>Self-driving cars have no obligation to protect anyone outside the vehicle.</th>\n",
       "      <th>Self-driving cars are, generally, ready for widespread public use.</th>\n",
       "      <th>Self-driving cars are safer than human-operated cars.</th>\n",
       "      <th>I trust AI and machines.</th>\n",
       "      <th>I would feel safe inside a self-driving car.</th>\n",
       "    </tr>\n",
       "  </thead>\n",
       "  <tbody>\n",
       "    <tr>\n",
       "      <th>0</th>\n",
       "      <td>2023-11-21 10:07:51</td>\n",
       "      <td>3</td>\n",
       "      <td>1</td>\n",
       "      <td>2</td>\n",
       "      <td>6</td>\n",
       "      <td>8</td>\n",
       "      <td>7</td>\n",
       "    </tr>\n",
       "    <tr>\n",
       "      <th>1</th>\n",
       "      <td>2023-11-21 10:57:20</td>\n",
       "      <td>3</td>\n",
       "      <td>1</td>\n",
       "      <td>1</td>\n",
       "      <td>3</td>\n",
       "      <td>2</td>\n",
       "      <td>2</td>\n",
       "    </tr>\n",
       "    <tr>\n",
       "      <th>2</th>\n",
       "      <td>2023-11-21 11:03:27</td>\n",
       "      <td>5</td>\n",
       "      <td>1</td>\n",
       "      <td>1</td>\n",
       "      <td>1</td>\n",
       "      <td>1</td>\n",
       "      <td>1</td>\n",
       "    </tr>\n",
       "    <tr>\n",
       "      <th>3</th>\n",
       "      <td>2023-11-21 11:04:15</td>\n",
       "      <td>7</td>\n",
       "      <td>1</td>\n",
       "      <td>3</td>\n",
       "      <td>4</td>\n",
       "      <td>7</td>\n",
       "      <td>4</td>\n",
       "    </tr>\n",
       "    <tr>\n",
       "      <th>4</th>\n",
       "      <td>2023-11-21 11:04:31</td>\n",
       "      <td>7</td>\n",
       "      <td>1</td>\n",
       "      <td>3</td>\n",
       "      <td>5</td>\n",
       "      <td>5</td>\n",
       "      <td>6</td>\n",
       "    </tr>\n",
       "    <tr>\n",
       "      <th>5</th>\n",
       "      <td>2023-11-21 11:04:42</td>\n",
       "      <td>5</td>\n",
       "      <td>3</td>\n",
       "      <td>1</td>\n",
       "      <td>5</td>\n",
       "      <td>5</td>\n",
       "      <td>6</td>\n",
       "    </tr>\n",
       "    <tr>\n",
       "      <th>6</th>\n",
       "      <td>2023-11-21 11:04:52</td>\n",
       "      <td>1</td>\n",
       "      <td>1</td>\n",
       "      <td>1</td>\n",
       "      <td>6</td>\n",
       "      <td>8</td>\n",
       "      <td>8</td>\n",
       "    </tr>\n",
       "    <tr>\n",
       "      <th>7</th>\n",
       "      <td>2023-11-21 11:05:01</td>\n",
       "      <td>1</td>\n",
       "      <td>1</td>\n",
       "      <td>1</td>\n",
       "      <td>5</td>\n",
       "      <td>3</td>\n",
       "      <td>1</td>\n",
       "    </tr>\n",
       "    <tr>\n",
       "      <th>8</th>\n",
       "      <td>2023-11-21 11:05:31</td>\n",
       "      <td>7</td>\n",
       "      <td>5</td>\n",
       "      <td>3</td>\n",
       "      <td>5</td>\n",
       "      <td>4</td>\n",
       "      <td>5</td>\n",
       "    </tr>\n",
       "    <tr>\n",
       "      <th>9</th>\n",
       "      <td>2023-11-21 11:05:43</td>\n",
       "      <td>6</td>\n",
       "      <td>1</td>\n",
       "      <td>4</td>\n",
       "      <td>3</td>\n",
       "      <td>2</td>\n",
       "      <td>2</td>\n",
       "    </tr>\n",
       "    <tr>\n",
       "      <th>10</th>\n",
       "      <td>2023-11-21 11:06:05</td>\n",
       "      <td>3</td>\n",
       "      <td>10</td>\n",
       "      <td>5</td>\n",
       "      <td>4</td>\n",
       "      <td>8</td>\n",
       "      <td>3</td>\n",
       "    </tr>\n",
       "    <tr>\n",
       "      <th>11</th>\n",
       "      <td>2023-11-21 11:06:17</td>\n",
       "      <td>5</td>\n",
       "      <td>1</td>\n",
       "      <td>3</td>\n",
       "      <td>2</td>\n",
       "      <td>4</td>\n",
       "      <td>1</td>\n",
       "    </tr>\n",
       "    <tr>\n",
       "      <th>12</th>\n",
       "      <td>2023-11-21 11:06:26</td>\n",
       "      <td>2</td>\n",
       "      <td>2</td>\n",
       "      <td>2</td>\n",
       "      <td>2</td>\n",
       "      <td>2</td>\n",
       "      <td>2</td>\n",
       "    </tr>\n",
       "    <tr>\n",
       "      <th>13</th>\n",
       "      <td>2023-11-21 11:06:47</td>\n",
       "      <td>4</td>\n",
       "      <td>1</td>\n",
       "      <td>3</td>\n",
       "      <td>2</td>\n",
       "      <td>5</td>\n",
       "      <td>1</td>\n",
       "    </tr>\n",
       "    <tr>\n",
       "      <th>14</th>\n",
       "      <td>2023-11-21 11:06:54</td>\n",
       "      <td>7</td>\n",
       "      <td>1</td>\n",
       "      <td>1</td>\n",
       "      <td>1</td>\n",
       "      <td>1</td>\n",
       "      <td>1</td>\n",
       "    </tr>\n",
       "    <tr>\n",
       "      <th>15</th>\n",
       "      <td>2023-11-21 11:07:00</td>\n",
       "      <td>1</td>\n",
       "      <td>1</td>\n",
       "      <td>1</td>\n",
       "      <td>1</td>\n",
       "      <td>1</td>\n",
       "      <td>1</td>\n",
       "    </tr>\n",
       "    <tr>\n",
       "      <th>16</th>\n",
       "      <td>2023-11-21 11:07:15</td>\n",
       "      <td>8</td>\n",
       "      <td>1</td>\n",
       "      <td>6</td>\n",
       "      <td>7</td>\n",
       "      <td>7</td>\n",
       "      <td>7</td>\n",
       "    </tr>\n",
       "  </tbody>\n",
       "</table>\n",
       "</div>"
      ],
      "text/plain": [
       "             Timestamp  Self-driving cars will be beneficial for society.  \\\n",
       "0  2023-11-21 10:07:51                                                  3   \n",
       "1  2023-11-21 10:57:20                                                  3   \n",
       "2  2023-11-21 11:03:27                                                  5   \n",
       "3  2023-11-21 11:04:15                                                  7   \n",
       "4  2023-11-21 11:04:31                                                  7   \n",
       "5  2023-11-21 11:04:42                                                  5   \n",
       "6  2023-11-21 11:04:52                                                  1   \n",
       "7  2023-11-21 11:05:01                                                  1   \n",
       "8  2023-11-21 11:05:31                                                  7   \n",
       "9  2023-11-21 11:05:43                                                  6   \n",
       "10 2023-11-21 11:06:05                                                  3   \n",
       "11 2023-11-21 11:06:17                                                  5   \n",
       "12 2023-11-21 11:06:26                                                  2   \n",
       "13 2023-11-21 11:06:47                                                  4   \n",
       "14 2023-11-21 11:06:54                                                  7   \n",
       "15 2023-11-21 11:07:00                                                  1   \n",
       "16 2023-11-21 11:07:15                                                  8   \n",
       "\n",
       "    Self-driving cars have no obligation to protect anyone outside the vehicle.  \\\n",
       "0                                                   1                             \n",
       "1                                                   1                             \n",
       "2                                                   1                             \n",
       "3                                                   1                             \n",
       "4                                                   1                             \n",
       "5                                                   3                             \n",
       "6                                                   1                             \n",
       "7                                                   1                             \n",
       "8                                                   5                             \n",
       "9                                                   1                             \n",
       "10                                                 10                             \n",
       "11                                                  1                             \n",
       "12                                                  2                             \n",
       "13                                                  1                             \n",
       "14                                                  1                             \n",
       "15                                                  1                             \n",
       "16                                                  1                             \n",
       "\n",
       "    Self-driving cars are, generally, ready for widespread public use.  \\\n",
       "0                                                   2                    \n",
       "1                                                   1                    \n",
       "2                                                   1                    \n",
       "3                                                   3                    \n",
       "4                                                   3                    \n",
       "5                                                   1                    \n",
       "6                                                   1                    \n",
       "7                                                   1                    \n",
       "8                                                   3                    \n",
       "9                                                   4                    \n",
       "10                                                  5                    \n",
       "11                                                  3                    \n",
       "12                                                  2                    \n",
       "13                                                  3                    \n",
       "14                                                  1                    \n",
       "15                                                  1                    \n",
       "16                                                  6                    \n",
       "\n",
       "    Self-driving cars are safer than human-operated cars.  \\\n",
       "0                                                   6       \n",
       "1                                                   3       \n",
       "2                                                   1       \n",
       "3                                                   4       \n",
       "4                                                   5       \n",
       "5                                                   5       \n",
       "6                                                   6       \n",
       "7                                                   5       \n",
       "8                                                   5       \n",
       "9                                                   3       \n",
       "10                                                  4       \n",
       "11                                                  2       \n",
       "12                                                  2       \n",
       "13                                                  2       \n",
       "14                                                  1       \n",
       "15                                                  1       \n",
       "16                                                  7       \n",
       "\n",
       "    I trust AI and machines.  I would feel safe inside a self-driving car.  \n",
       "0                          8                                             7  \n",
       "1                          2                                             2  \n",
       "2                          1                                             1  \n",
       "3                          7                                             4  \n",
       "4                          5                                             6  \n",
       "5                          5                                             6  \n",
       "6                          8                                             8  \n",
       "7                          3                                             1  \n",
       "8                          4                                             5  \n",
       "9                          2                                             2  \n",
       "10                         8                                             3  \n",
       "11                         4                                             1  \n",
       "12                         2                                             2  \n",
       "13                         5                                             1  \n",
       "14                         1                                             1  \n",
       "15                         1                                             1  \n",
       "16                         7                                             7  "
      ]
     },
     "execution_count": 11,
     "metadata": {},
     "output_type": "execute_result"
    }
   ],
   "source": [
    "df"
   ]
  },
  {
   "cell_type": "code",
   "execution_count": 12,
   "metadata": {},
   "outputs": [
    {
     "name": "stdout",
     "output_type": "stream",
     "text": [
      "<class 'pandas.core.frame.DataFrame'>\n",
      "RangeIndex: 17 entries, 0 to 16\n",
      "Data columns (total 7 columns):\n",
      " #   Column                                                                       Non-Null Count  Dtype         \n",
      "---  ------                                                                       --------------  -----         \n",
      " 0   Timestamp                                                                    17 non-null     datetime64[ns]\n",
      " 1   Self-driving cars will be beneficial for society.                            17 non-null     int64         \n",
      " 2   Self-driving cars have no obligation to protect anyone outside the vehicle.  17 non-null     int64         \n",
      " 3   Self-driving cars are, generally, ready for widespread public use.           17 non-null     int64         \n",
      " 4   Self-driving cars are safer than human-operated cars.                        17 non-null     int64         \n",
      " 5   I trust AI and machines.                                                     17 non-null     int64         \n",
      " 6   I would feel safe inside a self-driving car.                                 17 non-null     int64         \n",
      "dtypes: datetime64[ns](1), int64(6)\n",
      "memory usage: 1.1 KB\n"
     ]
    }
   ],
   "source": [
    "df.info()"
   ]
  },
  {
   "cell_type": "code",
   "execution_count": 13,
   "metadata": {},
   "outputs": [
    {
     "data": {
      "text/plain": [
       "Self-driving cars will be beneficial for society.\n",
       "7    4\n",
       "3    3\n",
       "5    3\n",
       "1    3\n",
       "6    1\n",
       "2    1\n",
       "4    1\n",
       "8    1\n",
       "Name: count, dtype: int64"
      ]
     },
     "execution_count": 13,
     "metadata": {},
     "output_type": "execute_result"
    }
   ],
   "source": [
    "df[\"Self-driving cars will be beneficial for society.\"].value_counts()"
   ]
  },
  {
   "cell_type": "code",
   "execution_count": 14,
   "metadata": {},
   "outputs": [
    {
     "data": {
      "text/plain": [
       "<Axes: xlabel='Self-driving cars will be beneficial for society.'>"
      ]
     },
     "execution_count": 14,
     "metadata": {},
     "output_type": "execute_result"
    },
    {
     "data": {
      "image/png": "[encoded data removed]",
      "text/plain": [
       "<Figure size 640x480 with 1 Axes>"
      ]
     },
     "metadata": {},
     "output_type": "display_data"
    }
   ],
   "source": [
    "df[\"Self-driving cars will be beneficial for society.\"].value_counts().plot.bar()"
   ]
  },
  {
   "cell_type": "code",
   "execution_count": 15,
   "metadata": {},
   "outputs": [
    {
     "data": {
      "text/plain": [
       "<Axes: xlabel='Self-driving cars have no obligation to protect anyone outside the vehicle.'>"
      ]
     },
     "execution_count": 15,
     "metadata": {},
     "output_type": "execute_result"
    },
    {
     "data": {
      "image/png": "[encoded data removed]",
      "text/plain": [
       "<Figure size 640x480 with 1 Axes>"
      ]
     },
     "metadata": {},
     "output_type": "display_data"
    }
   ],
   "source": [
    "df[\"Self-driving cars have no obligation to protect anyone outside the vehicle.\"].value_counts().plot.bar()"
   ]
  },
  {
   "cell_type": "code",
   "execution_count": 16,
   "metadata": {},
   "outputs": [
    {
     "data": {
      "text/plain": [
       "<Axes: xlabel='Self-driving cars are, generally, ready for widespread public use.'>"
      ]
     },
     "execution_count": 16,
     "metadata": {},
     "output_type": "execute_result"
    },
    {
     "data": {
      "image/png": "[encoded data removed]",
      "text/plain": [
       "<Figure size 640x480 with 1 Axes>"
      ]
     },
     "metadata": {},
     "output_type": "display_data"
    }
   ],
   "source": [
    "df[\"Self-driving cars are, generally, ready for widespread public use.\"].value_counts().plot.bar()"
   ]
  },
  {
   "cell_type": "code",
   "execution_count": 17,
   "metadata": {},
   "outputs": [
    {
     "data": {
      "text/plain": [
       "<Axes: xlabel='Self-driving cars are safer than human-operated cars.'>"
      ]
     },
     "execution_count": 17,
     "metadata": {},
     "output_type": "execute_result"
    },
    {
     "data": {
      "image/png": "[encoded data removed]",
      "text/plain": [
       "<Figure size 640x480 with 1 Axes>"
      ]
     },
     "metadata": {},
     "output_type": "display_data"
    }
   ],
   "source": [
    "df[\"Self-driving cars are safer than human-operated cars.\"].value_counts().plot.bar()"
   ]
  },
  {
   "cell_type": "code",
   "execution_count": 18,
   "metadata": {},
   "outputs": [
    {
     "data": {
      "text/plain": [
       "<Axes: xlabel='I trust AI and machines.'>"
      ]
     },
     "execution_count": 18,
     "metadata": {},
     "output_type": "execute_result"
    },
    {
     "data": {
      "image/png": "[encoded data removed]",
      "text/plain": [
       "<Figure size 640x480 with 1 Axes>"
      ]
     },
     "metadata": {},
     "output_type": "display_data"
    }
   ],
   "source": [
    "df[\"I trust AI and machines.\"].value_counts().plot.bar()"
   ]
  },
  {
   "cell_type": "code",
   "execution_count": 19,
   "metadata": {},
   "outputs": [
    {
     "data": {
      "text/plain": [
       "<Axes: xlabel='I would feel safe inside a self-driving car.'>"
      ]
     },
     "execution_count": 19,
     "metadata": {},
     "output_type": "execute_result"
    },
    {
     "data": {
      "image/png": "[encoded data removed]",
      "text/plain": [
       "<Figure size 640x480 with 1 Axes>"
      ]
     },
     "metadata": {},
     "output_type": "display_data"
    }
   ],
   "source": [
    "df[\"I would feel safe inside a self-driving car.\"].value_counts().plot.bar()"
   ]
  },
  {
   "cell_type": "code",
   "execution_count": null,
   "metadata": {},
   "outputs": [],
   "source": []
  }
 ],
 "metadata": {
  "kernelspec": {
   "display_name": "Python 3",
   "language": "python",
   "name": "python3"
  },
  "language_info": {
   "codemirror_mode": {
    "name": "ipython",
    "version": 3
   },
   "file_extension": ".py",
   "mimetype": "text/x-python",
   "name": "python",
   "nbconvert_exporter": "python",
   "pygments_lexer": "ipython3",
   "version": "3.11.6"
  }
 },
 "nbformat": 4,
 "nbformat_minor": 2
}
